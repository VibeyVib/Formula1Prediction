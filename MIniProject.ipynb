{
 "cells": [
  {
   "cell_type": "code",
   "execution_count": 87,
   "id": "d2c5a550",
   "metadata": {},
   "outputs": [],
   "source": [
    "import pandas as pd\n",
    "import numpy as np\n",
    "import requests\n",
    "import csv\n",
    "import seaborn as sns"
   ]
  },
  {
   "cell_type": "code",
   "execution_count": 90,
   "id": "42100782",
   "metadata": {},
   "outputs": [],
   "source": [
    "#driverID\n",
    "lewis=1,\n",
    "rosberg=3,\n",
    "vettel=20,\n",
    "alonso=4,\n",
    "kimi=8,\n",
    "button=18,\n",
    "hakkinen=57,\n",
    "vill=35,\n",
    "damon=71,\n",
    "alain=117,\n",
    "mansell=95,\n",
    "senna=102,\n",
    "msc=30\n",
    "\n",
    "#circuitID,\n",
    "spain=4,\n",
    "monza=14,\n",
    "monaco=6,\n",
    "silverstone=9,\n",
    "aus=1,\n",
    "spa=13"
   ]
  },
  {
   "cell_type": "code",
   "execution_count": 91,
   "id": "d5887a0c",
   "metadata": {},
   "outputs": [],
   "source": [
    "df=pd.read_csv(\"C:/Users/Vibhav/Jupyter/ML/maincsv.csv\")\n",
    "indiv=df.iloc[4]"
   ]
  },
  {
   "cell_type": "code",
   "execution_count": 89,
   "id": "5d9f1dbe",
   "metadata": {},
   "outputs": [
    {
     "name": "stdout",
     "output_type": "stream",
     "text": [
      "sno               5\n",
      "year           2009\n",
      "cicuit        Italy\n",
      "raceid           13\n",
      "driverid          1\n",
      "laptim      01:25.8\n",
      "laptime        85.8\n",
      "Name: 4, dtype: object\n"
     ]
    }
   ],
   "source": [
    "print(indiv)"
   ]
  },
  {
   "cell_type": "code",
   "execution_count": null,
   "id": "a2590681",
   "metadata": {},
   "outputs": [],
   "source": []
  }
 ],
 "metadata": {
  "kernelspec": {
   "display_name": "Python 3",
   "language": "python",
   "name": "python3"
  },
  "language_info": {
   "codemirror_mode": {
    "name": "ipython",
    "version": 3
   },
   "file_extension": ".py",
   "mimetype": "text/x-python",
   "name": "python",
   "nbconvert_exporter": "python",
   "pygments_lexer": "ipython3",
   "version": "3.8.8"
  }
 },
 "nbformat": 4,
 "nbformat_minor": 5
}
